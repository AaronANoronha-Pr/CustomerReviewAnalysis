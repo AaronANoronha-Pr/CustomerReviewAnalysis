{
 "cells": [
  {
   "cell_type": "code",
   "execution_count": 141,
   "metadata": {},
   "outputs": [],
   "source": [
    "import math \n",
    "import matplotlib.pyplot as plt \n",
    "import matplotlib\n",
    "import nltk\n",
    "from nltk.corpus import stopwords\n",
    "import string\n",
    "\n",
    "from sklearn.pipeline import Pipeline\n",
    "\n",
    "from sklearn.naive_bayes import MultinomialNB\n",
    "from sklearn.metrics import classification_report, multilabel_confusion_matrix\n",
    "import scikitplot as skplt\n",
    "\n",
    "import seaborn as sns\n",
    "import pandas as pd\n",
    "df1 = pd.read_csv('Fianl_data.csv')\n",
    "# reading data\n",
    "import numpy as np\n"
   ]
  },
  {
   "attachments": {},
   "cell_type": "markdown",
   "metadata": {},
   "source": [
    "Data Text Preprocessing"
   ]
  },
  {
   "cell_type": "code",
   "execution_count": 142,
   "metadata": {},
   "outputs": [
    {
     "data": {
      "text/html": [
       "<div>\n",
       "<style scoped>\n",
       "    .dataframe tbody tr th:only-of-type {\n",
       "        vertical-align: middle;\n",
       "    }\n",
       "\n",
       "    .dataframe tbody tr th {\n",
       "        vertical-align: top;\n",
       "    }\n",
       "\n",
       "    .dataframe thead th {\n",
       "        text-align: right;\n",
       "    }\n",
       "</style>\n",
       "<table border=\"1\" class=\"dataframe\">\n",
       "  <thead>\n",
       "    <tr style=\"text-align: right;\">\n",
       "      <th></th>\n",
       "      <th>id</th>\n",
       "      <th>review_body</th>\n",
       "      <th>sentiment</th>\n",
       "    </tr>\n",
       "  </thead>\n",
       "  <tbody>\n",
       "    <tr>\n",
       "      <th>0</th>\n",
       "      <td>0</td>\n",
       "      <td>absolutely love watch get compliments almost e...</td>\n",
       "      <td>Positive</td>\n",
       "    </tr>\n",
       "    <tr>\n",
       "      <th>1</th>\n",
       "      <td>1</td>\n",
       "      <td>love watch keeps time wonderfully.</td>\n",
       "      <td>Positive</td>\n",
       "    </tr>\n",
       "    <tr>\n",
       "      <th>2</th>\n",
       "      <td>2</td>\n",
       "      <td>scratches</td>\n",
       "      <td>Neural</td>\n",
       "    </tr>\n",
       "    <tr>\n",
       "      <th>3</th>\n",
       "      <td>3</td>\n",
       "      <td>works well me. however, found cheaper prices p...</td>\n",
       "      <td>Positive</td>\n",
       "    </tr>\n",
       "    <tr>\n",
       "      <th>4</th>\n",
       "      <td>4</td>\n",
       "      <td>beautiful watch face. band looks nice around. ...</td>\n",
       "      <td>Positive</td>\n",
       "    </tr>\n",
       "  </tbody>\n",
       "</table>\n",
       "</div>"
      ],
      "text/plain": [
       "   id                                        review_body sentiment\n",
       "0   0  absolutely love watch get compliments almost e...  Positive\n",
       "1   1                 love watch keeps time wonderfully.  Positive\n",
       "2   2                                          scratches    Neural\n",
       "3   3  works well me. however, found cheaper prices p...  Positive\n",
       "4   4  beautiful watch face. band looks nice around. ...  Positive"
      ]
     },
     "execution_count": 142,
     "metadata": {},
     "output_type": "execute_result"
    }
   ],
   "source": [
    "df1.head()\n"
   ]
  },
  {
   "cell_type": "code",
   "execution_count": 143,
   "metadata": {},
   "outputs": [
    {
     "data": {
      "text/html": [
       "<div>\n",
       "<style scoped>\n",
       "    .dataframe tbody tr th:only-of-type {\n",
       "        vertical-align: middle;\n",
       "    }\n",
       "\n",
       "    .dataframe tbody tr th {\n",
       "        vertical-align: top;\n",
       "    }\n",
       "\n",
       "    .dataframe thead th {\n",
       "        text-align: right;\n",
       "    }\n",
       "</style>\n",
       "<table border=\"1\" class=\"dataframe\">\n",
       "  <thead>\n",
       "    <tr style=\"text-align: right;\">\n",
       "      <th></th>\n",
       "      <th>id</th>\n",
       "      <th>review_body</th>\n",
       "      <th>sentiment</th>\n",
       "    </tr>\n",
       "  </thead>\n",
       "  <tbody>\n",
       "    <tr>\n",
       "      <th>609295</th>\n",
       "      <td>609295</td>\n",
       "      <td>great watch great price. grandson loved great ...</td>\n",
       "      <td>Positive</td>\n",
       "    </tr>\n",
       "    <tr>\n",
       "      <th>584695</th>\n",
       "      <td>584695</td>\n",
       "      <td>got watch black friday 50% watch beautiful. ru...</td>\n",
       "      <td>Positive</td>\n",
       "    </tr>\n",
       "    <tr>\n",
       "      <th>172002</th>\n",
       "      <td>172002</td>\n",
       "      <td>nice decent watch, looks pretty good. details ...</td>\n",
       "      <td>Positive</td>\n",
       "    </tr>\n",
       "    <tr>\n",
       "      <th>95962</th>\n",
       "      <td>95962</td>\n",
       "      <td>watch looks classy blue dial much brighter per...</td>\n",
       "      <td>Positive</td>\n",
       "    </tr>\n",
       "    <tr>\n",
       "      <th>614101</th>\n",
       "      <td>614101</td>\n",
       "      <td>seriously $2,500 casio watch idea vendor think...</td>\n",
       "      <td>Negative</td>\n",
       "    </tr>\n",
       "  </tbody>\n",
       "</table>\n",
       "</div>"
      ],
      "text/plain": [
       "            id                                        review_body sentiment\n",
       "609295  609295  great watch great price. grandson loved great ...  Positive\n",
       "584695  584695  got watch black friday 50% watch beautiful. ru...  Positive\n",
       "172002  172002  nice decent watch, looks pretty good. details ...  Positive\n",
       "95962    95962  watch looks classy blue dial much brighter per...  Positive\n",
       "614101  614101  seriously $2,500 casio watch idea vendor think...  Negative"
      ]
     },
     "execution_count": 143,
     "metadata": {},
     "output_type": "execute_result"
    }
   ],
   "source": [
    "\n",
    "df = df1.dropna()#Taking a 30% representative sample\n",
    "np.random.seed(34)\n",
    "df = df1.sample(frac = 0.05)\n",
    "df.head()"
   ]
  },
  {
   "cell_type": "code",
   "execution_count": 60,
   "metadata": {},
   "outputs": [
    {
     "name": "stdout",
     "output_type": "stream",
     "text": [
      "(48002, 3)\n"
     ]
    }
   ],
   "source": [
    "f=df.shape\n",
    "print(f)"
   ]
  },
  {
   "cell_type": "code",
   "execution_count": 144,
   "metadata": {},
   "outputs": [
    {
     "data": {
      "text/html": [
       "<div>\n",
       "<style scoped>\n",
       "    .dataframe tbody tr th:only-of-type {\n",
       "        vertical-align: middle;\n",
       "    }\n",
       "\n",
       "    .dataframe tbody tr th {\n",
       "        vertical-align: top;\n",
       "    }\n",
       "\n",
       "    .dataframe thead th {\n",
       "        text-align: right;\n",
       "    }\n",
       "</style>\n",
       "<table border=\"1\" class=\"dataframe\">\n",
       "  <thead>\n",
       "    <tr style=\"text-align: right;\">\n",
       "      <th></th>\n",
       "      <th>id</th>\n",
       "      <th>review_body</th>\n",
       "      <th>sentiment</th>\n",
       "    </tr>\n",
       "  </thead>\n",
       "  <tbody>\n",
       "    <tr>\n",
       "      <th>609295</th>\n",
       "      <td>609295</td>\n",
       "      <td>great watch great price. grandson loved great ...</td>\n",
       "      <td>Positive</td>\n",
       "    </tr>\n",
       "    <tr>\n",
       "      <th>584695</th>\n",
       "      <td>584695</td>\n",
       "      <td>got watch black friday 50% watch beautiful. ru...</td>\n",
       "      <td>Positive</td>\n",
       "    </tr>\n",
       "    <tr>\n",
       "      <th>172002</th>\n",
       "      <td>172002</td>\n",
       "      <td>nice decent watch, looks pretty good. details ...</td>\n",
       "      <td>Positive</td>\n",
       "    </tr>\n",
       "    <tr>\n",
       "      <th>95962</th>\n",
       "      <td>95962</td>\n",
       "      <td>watch looks classy blue dial much brighter per...</td>\n",
       "      <td>Positive</td>\n",
       "    </tr>\n",
       "    <tr>\n",
       "      <th>614101</th>\n",
       "      <td>614101</td>\n",
       "      <td>seriously $2,500 casio watch idea vendor think...</td>\n",
       "      <td>Negative</td>\n",
       "    </tr>\n",
       "  </tbody>\n",
       "</table>\n",
       "</div>"
      ],
      "text/plain": [
       "            id                                        review_body sentiment\n",
       "609295  609295  great watch great price. grandson loved great ...  Positive\n",
       "584695  584695  got watch black friday 50% watch beautiful. ru...  Positive\n",
       "172002  172002  nice decent watch, looks pretty good. details ...  Positive\n",
       "95962    95962  watch looks classy blue dial much brighter per...  Positive\n",
       "614101  614101  seriously $2,500 casio watch idea vendor think...  Negative"
      ]
     },
     "execution_count": 144,
     "metadata": {},
     "output_type": "execute_result"
    }
   ],
   "source": [
    "# Lower Case all the reviews\n",
    "df['review_body']=df['review_body'].str.lower()\n",
    "df.head()"
   ]
  },
  {
   "cell_type": "code",
   "execution_count": 145,
   "metadata": {},
   "outputs": [
    {
     "data": {
      "text/html": [
       "<div>\n",
       "<style scoped>\n",
       "    .dataframe tbody tr th:only-of-type {\n",
       "        vertical-align: middle;\n",
       "    }\n",
       "\n",
       "    .dataframe tbody tr th {\n",
       "        vertical-align: top;\n",
       "    }\n",
       "\n",
       "    .dataframe thead th {\n",
       "        text-align: right;\n",
       "    }\n",
       "</style>\n",
       "<table border=\"1\" class=\"dataframe\">\n",
       "  <thead>\n",
       "    <tr style=\"text-align: right;\">\n",
       "      <th></th>\n",
       "      <th>id</th>\n",
       "      <th>review_body</th>\n",
       "      <th>sentiment</th>\n",
       "    </tr>\n",
       "  </thead>\n",
       "  <tbody>\n",
       "    <tr>\n",
       "      <th>609295</th>\n",
       "      <td>609295</td>\n",
       "      <td>great watch great price grandson loved great c...</td>\n",
       "      <td>Positive</td>\n",
       "    </tr>\n",
       "    <tr>\n",
       "      <th>584695</th>\n",
       "      <td>584695</td>\n",
       "      <td>got watch black friday 50 watch beautiful rubb...</td>\n",
       "      <td>Positive</td>\n",
       "    </tr>\n",
       "    <tr>\n",
       "      <th>172002</th>\n",
       "      <td>172002</td>\n",
       "      <td>nice decent watch looks pretty good details li...</td>\n",
       "      <td>Positive</td>\n",
       "    </tr>\n",
       "    <tr>\n",
       "      <th>95962</th>\n",
       "      <td>95962</td>\n",
       "      <td>watch looks classy blue dial much brighter per...</td>\n",
       "      <td>Positive</td>\n",
       "    </tr>\n",
       "    <tr>\n",
       "      <th>614101</th>\n",
       "      <td>614101</td>\n",
       "      <td>seriously 2500 casio watch idea vendor thinkin...</td>\n",
       "      <td>Negative</td>\n",
       "    </tr>\n",
       "  </tbody>\n",
       "</table>\n",
       "</div>"
      ],
      "text/plain": [
       "            id                                        review_body sentiment\n",
       "609295  609295  great watch great price grandson loved great c...  Positive\n",
       "584695  584695  got watch black friday 50 watch beautiful rubb...  Positive\n",
       "172002  172002  nice decent watch looks pretty good details li...  Positive\n",
       "95962    95962  watch looks classy blue dial much brighter per...  Positive\n",
       "614101  614101  seriously 2500 casio watch idea vendor thinkin...  Negative"
      ]
     },
     "execution_count": 145,
     "metadata": {},
     "output_type": "execute_result"
    }
   ],
   "source": [
    "# Remove Punctuation\n",
    "PUNCT_TO_REMOVE = string.punctuation\n",
    "def remove_punctuation(text):\n",
    "    \"\"\"custom function to remove the punctuation\"\"\"\n",
    "    return text.translate(str.maketrans('', '', PUNCT_TO_REMOVE))\n",
    "\n",
    "df[\"review_body\"] = df[\"review_body\"].astype(str).apply(lambda text: remove_punctuation(text))\n",
    "df.head()"
   ]
  },
  {
   "cell_type": "code",
   "execution_count": 146,
   "metadata": {},
   "outputs": [
    {
     "data": {
      "text/html": [
       "<div>\n",
       "<style scoped>\n",
       "    .dataframe tbody tr th:only-of-type {\n",
       "        vertical-align: middle;\n",
       "    }\n",
       "\n",
       "    .dataframe tbody tr th {\n",
       "        vertical-align: top;\n",
       "    }\n",
       "\n",
       "    .dataframe thead th {\n",
       "        text-align: right;\n",
       "    }\n",
       "</style>\n",
       "<table border=\"1\" class=\"dataframe\">\n",
       "  <thead>\n",
       "    <tr style=\"text-align: right;\">\n",
       "      <th></th>\n",
       "      <th>id</th>\n",
       "      <th>review_body</th>\n",
       "      <th>sentiment</th>\n",
       "    </tr>\n",
       "  </thead>\n",
       "  <tbody>\n",
       "    <tr>\n",
       "      <th>609295</th>\n",
       "      <td>609295</td>\n",
       "      <td>great watch great price grandson loved great c...</td>\n",
       "      <td>Positive</td>\n",
       "    </tr>\n",
       "    <tr>\n",
       "      <th>584695</th>\n",
       "      <td>584695</td>\n",
       "      <td>got watch black friday 50 watch beautiful rubb...</td>\n",
       "      <td>Positive</td>\n",
       "    </tr>\n",
       "    <tr>\n",
       "      <th>172002</th>\n",
       "      <td>172002</td>\n",
       "      <td>nice decent watch looks pretty good details li...</td>\n",
       "      <td>Positive</td>\n",
       "    </tr>\n",
       "    <tr>\n",
       "      <th>95962</th>\n",
       "      <td>95962</td>\n",
       "      <td>watch looks classy blue dial much brighter per...</td>\n",
       "      <td>Positive</td>\n",
       "    </tr>\n",
       "    <tr>\n",
       "      <th>614101</th>\n",
       "      <td>614101</td>\n",
       "      <td>seriously 2500 casio watch idea vendor thinkin...</td>\n",
       "      <td>Negative</td>\n",
       "    </tr>\n",
       "  </tbody>\n",
       "</table>\n",
       "</div>"
      ],
      "text/plain": [
       "            id                                        review_body sentiment\n",
       "609295  609295  great watch great price grandson loved great c...  Positive\n",
       "584695  584695  got watch black friday 50 watch beautiful rubb...  Positive\n",
       "172002  172002  nice decent watch looks pretty good details li...  Positive\n",
       "95962    95962  watch looks classy blue dial much brighter per...  Positive\n",
       "614101  614101  seriously 2500 casio watch idea vendor thinkin...  Negative"
      ]
     },
     "execution_count": 146,
     "metadata": {},
     "output_type": "execute_result"
    }
   ],
   "source": [
    "# Remove Stopwords\n",
    "\", \".join(stopwords.words('english'))\n",
    "STOPWORDS = set(stopwords.words('english'))\n",
    "def remove_stopwords(review_body):\n",
    "    \"\"\"custom function to remove the stopwords\"\"\"\n",
    "    return \" \".join([word for word in str(review_body).split() if word not in STOPWORDS])\n",
    "\n",
    "df[\"review_body\"] = df[\"review_body\"].apply(lambda review_body: remove_stopwords(review_body))\n",
    "df.head()"
   ]
  },
  {
   "cell_type": "code",
   "execution_count": 147,
   "metadata": {},
   "outputs": [
    {
     "data": {
      "text/plain": [
       "[('watch', 62832),\n",
       " ('time', 13043),\n",
       " ('great', 12381),\n",
       " ('one', 11033),\n",
       " ('like', 10344),\n",
       " ('good', 10119),\n",
       " ('band', 10055),\n",
       " ('nice', 8465),\n",
       " ('looks', 8113),\n",
       " ('watches', 8103)]"
      ]
     },
     "execution_count": 147,
     "metadata": {},
     "output_type": "execute_result"
    }
   ],
   "source": [
    "# Removing Most Frequent Words\n",
    "from collections import Counter\n",
    "cnt = Counter()\n",
    "for text in df[\"review_body\"].values:\n",
    "    for word in text.split():\n",
    "        cnt[word] += 1\n",
    "        \n",
    "cnt.most_common(10)\n",
    "\n"
   ]
  },
  {
   "cell_type": "code",
   "execution_count": 148,
   "metadata": {},
   "outputs": [
    {
     "data": {
      "text/html": [
       "<div>\n",
       "<style scoped>\n",
       "    .dataframe tbody tr th:only-of-type {\n",
       "        vertical-align: middle;\n",
       "    }\n",
       "\n",
       "    .dataframe tbody tr th {\n",
       "        vertical-align: top;\n",
       "    }\n",
       "\n",
       "    .dataframe thead th {\n",
       "        text-align: right;\n",
       "    }\n",
       "</style>\n",
       "<table border=\"1\" class=\"dataframe\">\n",
       "  <thead>\n",
       "    <tr style=\"text-align: right;\">\n",
       "      <th></th>\n",
       "      <th>id</th>\n",
       "      <th>review_body</th>\n",
       "      <th>sentiment</th>\n",
       "    </tr>\n",
       "  </thead>\n",
       "  <tbody>\n",
       "    <tr>\n",
       "      <th>609295</th>\n",
       "      <td>609295</td>\n",
       "      <td>price grandson loved condition purchasing</td>\n",
       "      <td>Positive</td>\n",
       "    </tr>\n",
       "    <tr>\n",
       "      <th>584695</th>\n",
       "      <td>584695</td>\n",
       "      <td>got black friday 50 beautiful rubber strap sof...</td>\n",
       "      <td>Positive</td>\n",
       "    </tr>\n",
       "    <tr>\n",
       "      <th>172002</th>\n",
       "      <td>172002</td>\n",
       "      <td>decent pretty details little basic price hard ...</td>\n",
       "      <td>Positive</td>\n",
       "    </tr>\n",
       "    <tr>\n",
       "      <th>95962</th>\n",
       "      <td>95962</td>\n",
       "      <td>classy blue dial much brighter person much bet...</td>\n",
       "      <td>Positive</td>\n",
       "    </tr>\n",
       "    <tr>\n",
       "      <th>614101</th>\n",
       "      <td>614101</td>\n",
       "      <td>seriously 2500 casio idea vendor thinking oh w...</td>\n",
       "      <td>Negative</td>\n",
       "    </tr>\n",
       "  </tbody>\n",
       "</table>\n",
       "</div>"
      ],
      "text/plain": [
       "            id                                        review_body sentiment\n",
       "609295  609295          price grandson loved condition purchasing  Positive\n",
       "584695  584695  got black friday 50 beautiful rubber strap sof...  Positive\n",
       "172002  172002  decent pretty details little basic price hard ...  Positive\n",
       "95962    95962  classy blue dial much brighter person much bet...  Positive\n",
       "614101  614101  seriously 2500 casio idea vendor thinking oh w...  Negative"
      ]
     },
     "execution_count": 148,
     "metadata": {},
     "output_type": "execute_result"
    }
   ],
   "source": [
    "FREQWORDS = set([w for (w, wc) in cnt.most_common(10)])\n",
    "def remove_freqwords(text):\n",
    "    \"\"\"custom function to remove the frequent words\"\"\"\n",
    "    return \" \".join([word for word in str(text).split() if word not in FREQWORDS])\n",
    "\n",
    "df[\"review_body\"] = df[\"review_body\"].apply(lambda text: remove_freqwords(text))\n",
    "df.head()"
   ]
  },
  {
   "cell_type": "code",
   "execution_count": 149,
   "metadata": {},
   "outputs": [
    {
     "name": "stdout",
     "output_type": "stream",
     "text": [
      "{'disputed', 'mountings', 'potion', 'singlearm', 'awoken', '3days', 'fluted', 'aviationthemed', 'conformity', 'slimstyle'}\n"
     ]
    },
    {
     "data": {
      "text/html": [
       "<div>\n",
       "<style scoped>\n",
       "    .dataframe tbody tr th:only-of-type {\n",
       "        vertical-align: middle;\n",
       "    }\n",
       "\n",
       "    .dataframe tbody tr th {\n",
       "        vertical-align: top;\n",
       "    }\n",
       "\n",
       "    .dataframe thead th {\n",
       "        text-align: right;\n",
       "    }\n",
       "</style>\n",
       "<table border=\"1\" class=\"dataframe\">\n",
       "  <thead>\n",
       "    <tr style=\"text-align: right;\">\n",
       "      <th></th>\n",
       "      <th>id</th>\n",
       "      <th>review_body</th>\n",
       "      <th>sentiment</th>\n",
       "    </tr>\n",
       "  </thead>\n",
       "  <tbody>\n",
       "    <tr>\n",
       "      <th>609295</th>\n",
       "      <td>609295</td>\n",
       "      <td>price grandson loved condition purchasing</td>\n",
       "      <td>Positive</td>\n",
       "    </tr>\n",
       "    <tr>\n",
       "      <th>584695</th>\n",
       "      <td>584695</td>\n",
       "      <td>got black friday 50 beautiful rubber strap sof...</td>\n",
       "      <td>Positive</td>\n",
       "    </tr>\n",
       "    <tr>\n",
       "      <th>172002</th>\n",
       "      <td>172002</td>\n",
       "      <td>decent pretty details little basic price hard ...</td>\n",
       "      <td>Positive</td>\n",
       "    </tr>\n",
       "    <tr>\n",
       "      <th>95962</th>\n",
       "      <td>95962</td>\n",
       "      <td>classy blue dial much brighter person much bet...</td>\n",
       "      <td>Positive</td>\n",
       "    </tr>\n",
       "    <tr>\n",
       "      <th>614101</th>\n",
       "      <td>614101</td>\n",
       "      <td>seriously 2500 casio idea vendor thinking oh w...</td>\n",
       "      <td>Negative</td>\n",
       "    </tr>\n",
       "  </tbody>\n",
       "</table>\n",
       "</div>"
      ],
      "text/plain": [
       "            id                                        review_body sentiment\n",
       "609295  609295          price grandson loved condition purchasing  Positive\n",
       "584695  584695  got black friday 50 beautiful rubber strap sof...  Positive\n",
       "172002  172002  decent pretty details little basic price hard ...  Positive\n",
       "95962    95962  classy blue dial much brighter person much bet...  Positive\n",
       "614101  614101  seriously 2500 casio idea vendor thinking oh w...  Negative"
      ]
     },
     "execution_count": 149,
     "metadata": {},
     "output_type": "execute_result"
    }
   ],
   "source": [
    "# Removing Rare Words\n",
    "n_rare_words = 10\n",
    "RAREWORDS = set([w for (w, wc) in cnt.most_common()[:-n_rare_words-1:-1]])\n",
    "print(RAREWORDS)\n",
    "def remove_rarewords(text):\n",
    "    \"\"\"custom function to remove the rare words\"\"\"\n",
    "    return \" \".join([word for word in str(text).split() if word not in RAREWORDS])\n",
    "\n",
    "df[\"review_body\"] = df[\"review_body\"].apply(lambda text: remove_rarewords(text))\n",
    "df.head()"
   ]
  },
  {
   "cell_type": "code",
   "execution_count": 193,
   "metadata": {},
   "outputs": [
    {
     "name": "stderr",
     "output_type": "stream",
     "text": [
      "[nltk_data] Downloading package wordnet to\n",
      "[nltk_data]     C:\\Users\\SIMRAN\\AppData\\Roaming\\nltk_data...\n",
      "[nltk_data]   Package wordnet is already up-to-date!\n"
     ]
    },
    {
     "data": {
      "text/plain": [
       "True"
      ]
     },
     "execution_count": 193,
     "metadata": {},
     "output_type": "execute_result"
    }
   ],
   "source": [
    "nltk.download('wordnet')"
   ]
  },
  {
   "cell_type": "code",
   "execution_count": 194,
   "metadata": {},
   "outputs": [
    {
     "data": {
      "text/html": [
       "<div>\n",
       "<style scoped>\n",
       "    .dataframe tbody tr th:only-of-type {\n",
       "        vertical-align: middle;\n",
       "    }\n",
       "\n",
       "    .dataframe tbody tr th {\n",
       "        vertical-align: top;\n",
       "    }\n",
       "\n",
       "    .dataframe thead th {\n",
       "        text-align: right;\n",
       "    }\n",
       "</style>\n",
       "<table border=\"1\" class=\"dataframe\">\n",
       "  <thead>\n",
       "    <tr style=\"text-align: right;\">\n",
       "      <th></th>\n",
       "      <th>id</th>\n",
       "      <th>review_body</th>\n",
       "      <th>sentiment</th>\n",
       "    </tr>\n",
       "  </thead>\n",
       "  <tbody>\n",
       "    <tr>\n",
       "      <th>609295</th>\n",
       "      <td>609295</td>\n",
       "      <td>price grandson loved condition purchasing</td>\n",
       "      <td>3</td>\n",
       "    </tr>\n",
       "    <tr>\n",
       "      <th>584695</th>\n",
       "      <td>584695</td>\n",
       "      <td>got black friday 50 beautiful rubber strap sof...</td>\n",
       "      <td>3</td>\n",
       "    </tr>\n",
       "    <tr>\n",
       "      <th>172002</th>\n",
       "      <td>172002</td>\n",
       "      <td>decent pretty detail little basic price hard f...</td>\n",
       "      <td>3</td>\n",
       "    </tr>\n",
       "    <tr>\n",
       "      <th>95962</th>\n",
       "      <td>95962</td>\n",
       "      <td>classy blue dial much brighter person much bet...</td>\n",
       "      <td>3</td>\n",
       "    </tr>\n",
       "    <tr>\n",
       "      <th>614101</th>\n",
       "      <td>614101</td>\n",
       "      <td>seriously 2500 casio idea vendor thinking oh w...</td>\n",
       "      <td>1</td>\n",
       "    </tr>\n",
       "  </tbody>\n",
       "</table>\n",
       "</div>"
      ],
      "text/plain": [
       "            id                                        review_body  sentiment\n",
       "609295  609295          price grandson loved condition purchasing          3\n",
       "584695  584695  got black friday 50 beautiful rubber strap sof...          3\n",
       "172002  172002  decent pretty detail little basic price hard f...          3\n",
       "95962    95962  classy blue dial much brighter person much bet...          3\n",
       "614101  614101  seriously 2500 casio idea vendor thinking oh w...          1"
      ]
     },
     "execution_count": 194,
     "metadata": {},
     "output_type": "execute_result"
    }
   ],
   "source": [
    "# Lemmatization\n",
    "\n",
    "from nltk.stem import WordNetLemmatizer\n",
    "\n",
    "lemmatizer = WordNetLemmatizer()\n",
    "def lemmatize_words(text):\n",
    "    return \" \".join([lemmatizer.lemmatize(word) for word in text.split()])\n",
    "\n",
    "df[\"review_body\"] = df[\"review_body\"].apply(lambda text: lemmatize_words(text))\n",
    "df.head()"
   ]
  },
  {
   "cell_type": "code",
   "execution_count": 195,
   "metadata": {},
   "outputs": [],
   "source": [
    "# Labeling Sentiment\n",
    "cleanup_nums = {\"sentiment\": {\"Negative\": 1, \"Neural\": 2, \"Positive\": 3}}\n",
    "\n",
    "# Replace the Classes with Integer Values\n",
    "df = df.copy()\n",
    "df.replace(cleanup_nums, inplace=True)\n",
    "df.head()\n",
    "data=df.copy(deep=True)\n",
    "\n",
    "\n",
    "\n"
   ]
  },
  {
   "attachments": {},
   "cell_type": "markdown",
   "metadata": {},
   "source": [
    "Data Analysis"
   ]
  },
  {
   "cell_type": "code",
   "execution_count": 267,
   "metadata": {},
   "outputs": [],
   "source": [
    "# Create a Feature based on Text Length\n",
    "df['text_length'] = df['review_body'].str.len() # Store string length of each sample\n",
    "df = df.sort_values(['text_length'], ascending=True)\n",
    "df = df.dropna()\n"
   ]
  },
  {
   "cell_type": "code",
   "execution_count": 272,
   "metadata": {},
   "outputs": [
    {
     "data": {
      "text/plain": [
       "Text(0.5, 1.0, 'Text Length Distribution')"
      ]
     },
     "execution_count": 272,
     "metadata": {},
     "output_type": "execute_result"
    },
    {
     "data": {
      "image/png": "[encoded data removed]",
      "text/plain": [
       "<Figure size 640x480 with 1 Axes>"
      ]
     },
     "metadata": {},
     "output_type": "display_data"
    }
   ],
   "source": [
    "# Visualize a distribution of text_length\n",
    "sns.histplot(data=df, x='text_length', bins='auto', color='yellow');\n",
    "plt.title('Text Length Distribution')"
   ]
  },
  {
   "cell_type": "code",
   "execution_count": 21,
   "metadata": {},
   "outputs": [
    {
     "data": {
      "text/plain": [
       "Text(0, 0.5, 'Labels')"
      ]
     },
     "execution_count": 21,
     "metadata": {},
     "output_type": "execute_result"
    },
    {
     "data": {
      "image/png": "[encoded data removed]",
      "text/plain": [
       "<Figure size 640x480 with 1 Axes>"
      ]
     },
     "metadata": {},
     "output_type": "display_data"
    }
   ],
   "source": [
    "# Print the Distribution of Sentiment Labels\n",
    "sns.set_theme(style=\"whitegrid\")\n",
    "ax = df['sentiment'].value_counts(sort=False).plot(kind='barh', color='g')\n",
    "ax.set_xlabel('Count')\n",
    "ax.set_ylabel('Labels')"
   ]
  },
  {
   "attachments": {},
   "cell_type": "markdown",
   "metadata": {},
   "source": [
    "Creating Train and Test set"
   ]
  },
  {
   "cell_type": "code",
   "execution_count": 199,
   "metadata": {},
   "outputs": [],
   "source": [
    "X = df['review_body']\n",
    "y = df['sentiment']"
   ]
  },
  {
   "cell_type": "code",
   "execution_count": 200,
   "metadata": {},
   "outputs": [],
   "source": [
    "X, y = df.review_body.fillna(' '), df.sentiment"
   ]
  },
  {
   "cell_type": "code",
   "execution_count": 201,
   "metadata": {},
   "outputs": [],
   "source": [
    "from sklearn.model_selection import train_test_split\n",
    "X_train, X_test, y_train, y_test = train_test_split(X, y, \n",
    "                                        test_size = 0.5, random_state=24)\n"
   ]
  },
  {
   "attachments": {},
   "cell_type": "markdown",
   "metadata": {},
   "source": [
    "Count Vectorizer\n",
    "\n",
    "I will use a count vectorizer to vectorize the text data in the review column (training feature for this project) and then use three different classification models from scikit-learn models."
   ]
  },
  {
   "cell_type": "code",
   "execution_count": 184,
   "metadata": {},
   "outputs": [],
   "source": [
    "from sklearn.feature_extraction.text import CountVectorizer\n",
    "cv = CountVectorizer()"
   ]
  },
  {
   "cell_type": "code",
   "execution_count": 185,
   "metadata": {},
   "outputs": [],
   "source": [
    "#Vectorizing the text data\n",
    "ctmTr = cv.fit_transform(X_train)\n",
    "X_test_dtm = cv.transform(X_test)"
   ]
  },
  {
   "attachments": {},
   "cell_type": "markdown",
   "metadata": {},
   "source": [
    "LOGISTIC REGRESSION"
   ]
  },
  {
   "cell_type": "code",
   "execution_count": 173,
   "metadata": {},
   "outputs": [
    {
     "name": "stdout",
     "output_type": "stream",
     "text": [
      "Results for Logistic Regression with CountVectorizer\n",
      "0.8240489979584183\n"
     ]
    }
   ],
   "source": [
    "\n",
    "from sklearn.linear_model import LogisticRegression\n",
    "\n",
    "#Training the model\n",
    "lr = LogisticRegression(multi_class ='multinomial',solver='lbfgs', max_iter=20000)\n",
    "lr.fit(ctmTr, y_train)\n",
    "\n",
    "#Accuracy score\n",
    "lr_score = lr.score(X_test_dtm, y_test)\n",
    "print(\"Results for Logistic Regression with CountVectorizer\")\n",
    "print(lr_score)\n",
    "\n",
    "#Predicting the labels for test data\n",
    "y_pred_lrc = lr.predict(X_test_dtm)\n"
   ]
  },
  {
   "cell_type": "code",
   "execution_count": 174,
   "metadata": {},
   "outputs": [
    {
     "name": "stdout",
     "output_type": "stream",
     "text": [
      "Confusion Matrix: \n",
      "[[ 1035   480   564]\n",
      " [  536  1055  1716]\n",
      " [  206   721 17688]]\n",
      "Clasification Report: \n",
      "              precision    recall  f1-score   support\n",
      "\n",
      "           1       0.58      0.50      0.54      2079\n",
      "           2       0.47      0.32      0.38      3307\n",
      "           3       0.89      0.95      0.92     18615\n",
      "\n",
      "    accuracy                           0.82     24001\n",
      "   macro avg       0.65      0.59      0.61     24001\n",
      "weighted avg       0.80      0.82      0.81     24001\n",
      "\n",
      "Accuracy: 0.8240489979584183\n"
     ]
    }
   ],
   "source": [
    "from sklearn.metrics import classification_report , confusion_matrix , accuracy_score\n",
    "result = confusion_matrix(y_test,y_pred_lrc)\n",
    "print(\"Confusion Matrix: \")\n",
    "print(result)\n",
    "\n",
    "result1 = classification_report(y_test,y_pred_lrc)\n",
    "print(\"Clasification Report: \")\n",
    "print(result1)\n",
    "result2 = accuracy_score(y_test,y_pred_lrc)\n",
    "print(\"Accuracy:\",result2)\n"
   ]
  },
  {
   "attachments": {},
   "cell_type": "markdown",
   "metadata": {},
   "source": [
    "SVM (Support Vector Machine)"
   ]
  },
  {
   "cell_type": "code",
   "execution_count": 186,
   "metadata": {},
   "outputs": [
    {
     "name": "stdout",
     "output_type": "stream",
     "text": [
      "Results for Support Vector Machine with CountVectorizer\n",
      "0.8182992375317695\n"
     ]
    }
   ],
   "source": [
    "from sklearn import svm\n",
    "#Training the model\n",
    "svcl = svm.SVC(kernel='rbf')\n",
    "svcl.fit(ctmTr, y_train)\n",
    "svcl_score = svcl.score(X_test_dtm, y_test)\n",
    "print(\"Results for Support Vector Machine with CountVectorizer\")\n",
    "print(svcl_score)\n",
    "y_pred_svc = svcl.predict(X_test_dtm)"
   ]
  },
  {
   "cell_type": "code",
   "execution_count": 187,
   "metadata": {},
   "outputs": [
    {
     "name": "stdout",
     "output_type": "stream",
     "text": [
      "Confusion Matrix: \n",
      "[[  751   261  1067]\n",
      " [  273   493  2541]\n",
      " [   73   146 18396]]\n",
      "Clasification Report: \n",
      "              precision    recall  f1-score   support\n",
      "\n",
      "           1       0.68      0.36      0.47      2079\n",
      "           2       0.55      0.15      0.23      3307\n",
      "           3       0.84      0.99      0.91     18615\n",
      "\n",
      "    accuracy                           0.82     24001\n",
      "   macro avg       0.69      0.50      0.54     24001\n",
      "weighted avg       0.78      0.82      0.78     24001\n",
      "\n",
      "Accuracy: 0.8182992375317695\n"
     ]
    }
   ],
   "source": [
    "from sklearn.metrics import classification_report , confusion_matrix , accuracy_score\n",
    "result = confusion_matrix(y_test,y_pred_svc)\n",
    "print(\"Confusion Matrix: \")\n",
    "print(result)\n",
    "\n",
    "result1 = classification_report(y_test,y_pred_svc)\n",
    "print(\"Clasification Report: \")\n",
    "print(result1)\n",
    "\n",
    "result2 = accuracy_score(y_test,y_pred_svc)\n",
    "print(\"Accuracy:\",result2)\n"
   ]
  },
  {
   "attachments": {},
   "cell_type": "markdown",
   "metadata": {},
   "source": [
    "K-Nearest Neighbor"
   ]
  },
  {
   "cell_type": "code",
   "execution_count": 33,
   "metadata": {},
   "outputs": [
    {
     "name": "stdout",
     "output_type": "stream",
     "text": [
      "Results for KNN Classifier with CountVectorizer\n",
      "0.7699679180034166\n"
     ]
    }
   ],
   "source": [
    "from sklearn.neighbors import KNeighborsClassifier\n",
    "knn = KNeighborsClassifier(n_neighbors=5)\n",
    "knn.fit(ctmTr, y_train)\n",
    "knn_score = knn.score(X_test_dtm, y_test)\n",
    "print(\"Results for KNN Classifier with CountVectorizer\")\n",
    "print(knn_score)\n",
    "y_pred_knnc = knn.predict(X_test_dtm)\n"
   ]
  },
  {
   "cell_type": "code",
   "execution_count": 34,
   "metadata": {},
   "outputs": [
    {
     "name": "stdout",
     "output_type": "stream",
     "text": [
      "Confusion Matrix: \n",
      "[[  510   317  1238]\n",
      " [  386   535  2366]\n",
      " [  362   852 17435]]\n",
      "Clasification Report: \n",
      "              precision    recall  f1-score   support\n",
      "\n",
      "           1       0.41      0.25      0.31      2065\n",
      "           2       0.31      0.16      0.21      3287\n",
      "           3       0.83      0.93      0.88     18649\n",
      "\n",
      "    accuracy                           0.77     24001\n",
      "   macro avg       0.52      0.45      0.47     24001\n",
      "weighted avg       0.72      0.77      0.74     24001\n",
      "\n",
      "Accuracy: 0.7699679180034166\n"
     ]
    }
   ],
   "source": [
    "from sklearn.metrics import classification_report , confusion_matrix , accuracy_score\n",
    "result = confusion_matrix(y_test,y_pred_knnc)\n",
    "print(\"Confusion Matrix: \")\n",
    "print(result)\n",
    "\n",
    "result1 = classification_report(y_test,y_pred_knnc)\n",
    "print(\"Clasification Report: \")\n",
    "print(result1)\n",
    "\n",
    "result2 = accuracy_score(y_test,y_pred_knnc)\n",
    "print(\"Accuracy:\",result2)\n",
    "\n"
   ]
  },
  {
   "attachments": {},
   "cell_type": "markdown",
   "metadata": {},
   "source": [
    "TFIDF Vectorizer \n",
    "\n",
    "I will use the TF-IDF vectorizer. This vectorizer is known to be a more popular one because it uses the term frequency of the words. "
   ]
  },
  {
   "cell_type": "code",
   "execution_count": 202,
   "metadata": {},
   "outputs": [],
   "source": [
    "\n",
    "from sklearn.feature_extraction.text import TfidfVectorizer\n",
    "#tfidf vectorizer\n",
    "vectorizer = TfidfVectorizer()\n",
    "X_train_vec = vectorizer.fit_transform(X_train)\n",
    "X_test_vec = vectorizer.transform(X_test)"
   ]
  },
  {
   "attachments": {},
   "cell_type": "markdown",
   "metadata": {},
   "source": [
    "Logistic Regression"
   ]
  },
  {
   "cell_type": "code",
   "execution_count": 176,
   "metadata": {},
   "outputs": [
    {
     "name": "stdout",
     "output_type": "stream",
     "text": [
      "Results for Logistic Regression with tfidf\n",
      "0.8327986333902754\n"
     ]
    }
   ],
   "source": [
    "\n",
    "from sklearn.linear_model import LogisticRegression\n",
    "lrt = LogisticRegression(multi_class='multinomial',solver='lbfgs', max_iter=20000)\n",
    "lrt.fit(X_train_vec, y_train)\n",
    "lr_score = lrt.score(X_test_vec, y_test)\n",
    "print(\"Results for Logistic Regression with tfidf\")\n",
    "print(lr_score)\n",
    "y_pred_lr = lrt.predict(X_test_vec)"
   ]
  },
  {
   "cell_type": "code",
   "execution_count": 178,
   "metadata": {},
   "outputs": [
    {
     "name": "stdout",
     "output_type": "stream",
     "text": [
      "Confusion Matrix: \n",
      "[[  948   412   719]\n",
      " [  391   865  2051]\n",
      " [  104   336 18175]]\n",
      "Clasification Report: \n",
      "              precision    recall  f1-score   support\n",
      "\n",
      "           1       0.66      0.46      0.54      2079\n",
      "           2       0.54      0.26      0.35      3307\n",
      "           3       0.87      0.98      0.92     18615\n",
      "\n",
      "    accuracy                           0.83     24001\n",
      "   macro avg       0.69      0.56      0.60     24001\n",
      "weighted avg       0.80      0.83      0.81     24001\n",
      "\n",
      "Accuracy: 0.8327986333902754\n"
     ]
    }
   ],
   "source": [
    "from sklearn.metrics import classification_report , confusion_matrix , accuracy_score\n",
    "result = confusion_matrix(y_test,y_pred_lr)\n",
    "print(\"Confusion Matrix: \")\n",
    "print(result)\n",
    "\n",
    "result1 = classification_report(y_test,y_pred_lr)\n",
    "print(\"Clasification Report: \")\n",
    "print(result1)\n",
    "\n",
    "result2 = accuracy_score(y_test,y_pred_lr)\n",
    "print(\"Accuracy:\",result2)\n"
   ]
  },
  {
   "attachments": {},
   "cell_type": "markdown",
   "metadata": {},
   "source": [
    "SVM(Support Vector Machine)"
   ]
  },
  {
   "cell_type": "code",
   "execution_count": 182,
   "metadata": {},
   "outputs": [
    {
     "name": "stdout",
     "output_type": "stream",
     "text": [
      "Results for Support Vector Machine with tfidf\n",
      "0.8288404649806258\n"
     ]
    }
   ],
   "source": [
    "from sklearn import svm\n",
    "\n",
    "svcl = svm.SVC(kernel='rbf')\n",
    "#clf_sv = GridSearchCV(svcl, params)\n",
    "svcl.fit(X_train_vec, y_train)\n",
    "svcl_score = svcl.score(X_test_vec, y_test)\n",
    "print(\"Results for Support Vector Machine with tfidf\")\n",
    "print(svcl_score)\n",
    "y_pred_sv = svcl.predict(X_test_vec)"
   ]
  },
  {
   "cell_type": "code",
   "execution_count": 183,
   "metadata": {},
   "outputs": [
    {
     "name": "stdout",
     "output_type": "stream",
     "text": [
      "Confusion Matrix: \n",
      "[[  900   343   836]\n",
      " [  348   657  2302]\n",
      " [   88   191 18336]]\n",
      "Clasification Report: \n",
      "              precision    recall  f1-score   support\n",
      "\n",
      "           1       0.67      0.43      0.53      2079\n",
      "           2       0.55      0.20      0.29      3307\n",
      "           3       0.85      0.99      0.91     18615\n",
      "\n",
      "    accuracy                           0.83     24001\n",
      "   macro avg       0.69      0.54      0.58     24001\n",
      "weighted avg       0.80      0.83      0.80     24001\n",
      "\n",
      "Accuracy: 0.8288404649806258\n"
     ]
    }
   ],
   "source": [
    "from sklearn.metrics import classification_report , confusion_matrix , accuracy_score\n",
    "result = confusion_matrix(y_test,y_pred_sv)\n",
    "print(\"Confusion Matrix: \")\n",
    "print(result)\n",
    "\n",
    "result1 = classification_report(y_test,y_pred_sv)\n",
    "print(\"Clasification Report: \")\n",
    "print(result1)\n",
    "\n",
    "result2 = accuracy_score(y_test,y_pred_sv)\n",
    "print(\"Accuracy:\",result2)\n"
   ]
  },
  {
   "attachments": {},
   "cell_type": "markdown",
   "metadata": {},
   "source": [
    "K-Nearest Neighbor"
   ]
  },
  {
   "cell_type": "code",
   "execution_count": 35,
   "metadata": {},
   "outputs": [
    {
     "name": "stdout",
     "output_type": "stream",
     "text": [
      "Results for KNN Classifier with tfidf\n",
      "0.7803424857297613\n"
     ]
    }
   ],
   "source": [
    "from sklearn.neighbors import KNeighborsClassifier\n",
    "knn = KNeighborsClassifier(n_neighbors=5)\n",
    "knn.fit(X_train_vec, y_train)\n",
    "knn_score = knn.score(X_test_vec, y_test)\n",
    "print(\"Results for KNN Classifier with tfidf\")\n",
    "print(knn_score)\n",
    "y_pred_knn = knn.predict(X_test_vec)"
   ]
  },
  {
   "cell_type": "code",
   "execution_count": 36,
   "metadata": {},
   "outputs": [
    {
     "name": "stdout",
     "output_type": "stream",
     "text": [
      "Confusion Matrix: \n",
      "[[  112    76  1877]\n",
      " [   82    77  3128]\n",
      " [   33    76 18540]]\n",
      "Clasification Report: \n",
      "              precision    recall  f1-score   support\n",
      "\n",
      "           1       0.49      0.05      0.10      2065\n",
      "           2       0.34      0.02      0.04      3287\n",
      "           3       0.79      0.99      0.88     18649\n",
      "\n",
      "    accuracy                           0.78     24001\n",
      "   macro avg       0.54      0.36      0.34     24001\n",
      "weighted avg       0.70      0.78      0.70     24001\n",
      "\n",
      "Accuracy: 0.7803424857297613\n"
     ]
    }
   ],
   "source": [
    "from sklearn.metrics import classification_report , confusion_matrix , accuracy_score\n",
    "result = confusion_matrix(y_test,y_pred_knn)\n",
    "print(\"Confusion Matrix: \")\n",
    "print(result)\n",
    "\n",
    "result1 = classification_report(y_test,y_pred_knn)\n",
    "print(\"Clasification Report: \")\n",
    "print(result1)\n",
    "\n",
    "result2 = accuracy_score(y_test,y_pred_knn)\n",
    "print(\"Accuracy:\",result2)\n"
   ]
  },
  {
   "attachments": {},
   "cell_type": "markdown",
   "metadata": {},
   "source": [
    "Random Forest Classifier"
   ]
  },
  {
   "cell_type": "code",
   "execution_count": 206,
   "metadata": {},
   "outputs": [],
   "source": [
    "from sklearn.ensemble import RandomForestClassifier\n",
    "from sklearn.model_selection import cross_val_score\n",
    "\n",
    "rf = RandomForestClassifier()\n",
    "scores = cross_val_score(rf,X_train_vec,y_train.values.ravel(),cv=5)\n"
   ]
  },
  {
   "cell_type": "code",
   "execution_count": 204,
   "metadata": {},
   "outputs": [
    {
     "name": "stdout",
     "output_type": "stream",
     "text": [
      "[0.77 0.78 0.77 0.76 0.77]\n"
     ]
    },
    {
     "data": {
      "text/plain": [
       "0.77"
      ]
     },
     "execution_count": 204,
     "metadata": {},
     "output_type": "execute_result"
    }
   ],
   "source": [
    "print(scores)\n",
    "scores.mean()"
   ]
  },
  {
   "cell_type": "code",
   "execution_count": 227,
   "metadata": {},
   "outputs": [],
   "source": [
    "def print_results(results):\n",
    "    print('BEST PARAMS: {}\\n'.format(results.best_params_))\n",
    "\n",
    "    means = results.cv_results_['mean_test_score']\n",
    "    stds = results.cv_results_['std_test_score']\n",
    "    for mean, std, params in zip(means, stds, results.cv_results_['params']):\n",
    "        print('{} (+/-{}) for {}'.format(round(mean, 3), round(std * 2, 3), params))"
   ]
  },
  {
   "cell_type": "code",
   "execution_count": 236,
   "metadata": {},
   "outputs": [
    {
     "name": "stdout",
     "output_type": "stream",
     "text": [
      "BEST PARAMS: {'max_depth': None, 'n_estimators': 10}\n",
      "\n",
      "0.768 (+/-0.008) for {'max_depth': 2, 'n_estimators': 5}\n",
      "0.768 (+/-0.008) for {'max_depth': 2, 'n_estimators': 10}\n",
      "0.768 (+/-0.008) for {'max_depth': 2, 'n_estimators': 20}\n",
      "0.77 (+/-0.0) for {'max_depth': 5, 'n_estimators': 5}\n",
      "0.768 (+/-0.008) for {'max_depth': 5, 'n_estimators': 10}\n",
      "0.768 (+/-0.008) for {'max_depth': 5, 'n_estimators': 20}\n",
      "0.77 (+/-0.0) for {'max_depth': 10, 'n_estimators': 5}\n",
      "0.77 (+/-0.0) for {'max_depth': 10, 'n_estimators': 10}\n",
      "0.77 (+/-0.013) for {'max_depth': 10, 'n_estimators': 20}\n",
      "0.758 (+/-0.06) for {'max_depth': None, 'n_estimators': 5}\n",
      "0.778 (+/-0.023) for {'max_depth': None, 'n_estimators': 10}\n",
      "0.766 (+/-0.016) for {'max_depth': None, 'n_estimators': 20}\n"
     ]
    }
   ],
   "source": [
    "from sklearn.model_selection import GridSearchCV\n",
    "\n",
    "rf = RandomForestClassifier()\n",
    "parameters = {\n",
    "    'n_estimators': [5,10,20,],\n",
    "    'max_depth': [2,5,10,None]\n",
    "}\n",
    "\n",
    "cv = GridSearchCV(rf,parameters)\n",
    "cv.fit(X_train_vec,y_train.values.ravel())\n",
    "print_results(cv)"
   ]
  },
  {
   "cell_type": "code",
   "execution_count": 229,
   "metadata": {},
   "outputs": [
    {
     "data": {
      "text/html": [
       "<style>#sk-container-id-6 {color: black;background-color: white;}#sk-container-id-6 pre{padding: 0;}#sk-container-id-6 div.sk-toggleable {background-color: white;}#sk-container-id-6 label.sk-toggleable__label {cursor: pointer;display: block;width: 100%;margin-bottom: 0;padding: 0.3em;box-sizing: border-box;text-align: center;}#sk-container-id-6 label.sk-toggleable__label-arrow:before {content: \"▸\";float: left;margin-right: 0.25em;color: #696969;}#sk-container-id-6 label.sk-toggleable__label-arrow:hover:before {color: black;}#sk-container-id-6 div.sk-estimator:hover label.sk-toggleable__label-arrow:before {color: black;}#sk-container-id-6 div.sk-toggleable__content {max-height: 0;max-width: 0;overflow: hidden;text-align: left;background-color: #f0f8ff;}#sk-container-id-6 div.sk-toggleable__content pre {margin: 0.2em;color: black;border-radius: 0.25em;background-color: #f0f8ff;}#sk-container-id-6 input.sk-toggleable__control:checked~div.sk-toggleable__content {max-height: 200px;max-width: 100%;overflow: auto;}#sk-container-id-6 input.sk-toggleable__control:checked~label.sk-toggleable__label-arrow:before {content: \"▾\";}#sk-container-id-6 div.sk-estimator input.sk-toggleable__control:checked~label.sk-toggleable__label {background-color: #d4ebff;}#sk-container-id-6 div.sk-label input.sk-toggleable__control:checked~label.sk-toggleable__label {background-color: #d4ebff;}#sk-container-id-6 input.sk-hidden--visually {border: 0;clip: rect(1px 1px 1px 1px);clip: rect(1px, 1px, 1px, 1px);height: 1px;margin: -1px;overflow: hidden;padding: 0;position: absolute;width: 1px;}#sk-container-id-6 div.sk-estimator {font-family: monospace;background-color: #f0f8ff;border: 1px dotted black;border-radius: 0.25em;box-sizing: border-box;margin-bottom: 0.5em;}#sk-container-id-6 div.sk-estimator:hover {background-color: #d4ebff;}#sk-container-id-6 div.sk-parallel-item::after {content: \"\";width: 100%;border-bottom: 1px solid gray;flex-grow: 1;}#sk-container-id-6 div.sk-label:hover label.sk-toggleable__label {background-color: #d4ebff;}#sk-container-id-6 div.sk-serial::before {content: \"\";position: absolute;border-left: 1px solid gray;box-sizing: border-box;top: 0;bottom: 0;left: 50%;z-index: 0;}#sk-container-id-6 div.sk-serial {display: flex;flex-direction: column;align-items: center;background-color: white;padding-right: 0.2em;padding-left: 0.2em;position: relative;}#sk-container-id-6 div.sk-item {position: relative;z-index: 1;}#sk-container-id-6 div.sk-parallel {display: flex;align-items: stretch;justify-content: center;background-color: white;position: relative;}#sk-container-id-6 div.sk-item::before, #sk-container-id-6 div.sk-parallel-item::before {content: \"\";position: absolute;border-left: 1px solid gray;box-sizing: border-box;top: 0;bottom: 0;left: 50%;z-index: -1;}#sk-container-id-6 div.sk-parallel-item {display: flex;flex-direction: column;z-index: 1;position: relative;background-color: white;}#sk-container-id-6 div.sk-parallel-item:first-child::after {align-self: flex-end;width: 50%;}#sk-container-id-6 div.sk-parallel-item:last-child::after {align-self: flex-start;width: 50%;}#sk-container-id-6 div.sk-parallel-item:only-child::after {width: 0;}#sk-container-id-6 div.sk-dashed-wrapped {border: 1px dashed gray;margin: 0 0.4em 0.5em 0.4em;box-sizing: border-box;padding-bottom: 0.4em;background-color: white;}#sk-container-id-6 div.sk-label label {font-family: monospace;font-weight: bold;display: inline-block;line-height: 1.2em;}#sk-container-id-6 div.sk-label-container {text-align: center;}#sk-container-id-6 div.sk-container {/* jupyter's `normalize.less` sets `[hidden] { display: none; }` but bootstrap.min.css set `[hidden] { display: none !important; }` so we also need the `!important` here to be able to override the default hidden behavior on the sphinx rendered scikit-learn.org. See: https://github.com/scikit-learn/scikit-learn/issues/21755 */display: inline-block !important;position: relative;}#sk-container-id-6 div.sk-text-repr-fallback {display: none;}</style><div id=\"sk-container-id-6\" class=\"sk-top-container\"><div class=\"sk-text-repr-fallback\"><pre>RandomForestClassifier(n_estimators=10)</pre><b>In a Jupyter environment, please rerun this cell to show the HTML representation or trust the notebook. <br />On GitHub, the HTML representation is unable to render, please try loading this page with nbviewer.org.</b></div><div class=\"sk-container\" hidden><div class=\"sk-item\"><div class=\"sk-estimator sk-toggleable\"><input class=\"sk-toggleable__control sk-hidden--visually\" id=\"sk-estimator-id-6\" type=\"checkbox\" checked><label for=\"sk-estimator-id-6\" class=\"sk-toggleable__label sk-toggleable__label-arrow\">RandomForestClassifier</label><div class=\"sk-toggleable__content\"><pre>RandomForestClassifier(n_estimators=10)</pre></div></div></div></div></div>"
      ],
      "text/plain": [
       "RandomForestClassifier(n_estimators=10)"
      ]
     },
     "execution_count": 229,
     "metadata": {},
     "output_type": "execute_result"
    }
   ],
   "source": [
    "cv.best_estimator_"
   ]
  },
  {
   "cell_type": "code",
   "execution_count": 237,
   "metadata": {},
   "outputs": [],
   "source": [
    "rf3 = RandomForestClassifier(n_estimators=10)\n",
    "rf3.fit(X_train_vec, y_train.values.ravel())\n",
    "y_pred_rf = rf3.predict(X_test_vec)"
   ]
  },
  {
   "cell_type": "code",
   "execution_count": 238,
   "metadata": {},
   "outputs": [
    {
     "name": "stdout",
     "output_type": "stream",
     "text": [
      "Confusion Matrix: \n",
      "[[  3   6  43]\n",
      " [  4   8  79]\n",
      " [  5   4 348]]\n",
      "Clasification Report: \n",
      "              precision    recall  f1-score   support\n",
      "\n",
      "           1       0.25      0.06      0.09        52\n",
      "           2       0.44      0.09      0.15        91\n",
      "           3       0.74      0.97      0.84       357\n",
      "\n",
      "    accuracy                           0.72       500\n",
      "   macro avg       0.48      0.37      0.36       500\n",
      "weighted avg       0.64      0.72      0.64       500\n",
      "\n",
      "Accuracy: 0.718\n"
     ]
    }
   ],
   "source": [
    "from sklearn.metrics import classification_report , confusion_matrix , accuracy_score\n",
    "result = confusion_matrix(y_test,y_pred_rf)\n",
    "print(\"Confusion Matrix: \")\n",
    "print(result)\n",
    "\n",
    "result1 = classification_report(y_test,y_pred_rf)\n",
    "print(\"Clasification Report: \")\n",
    "print(result1)\n",
    "\n",
    "result2 = accuracy_score(y_test,y_pred_rf)\n",
    "print(\"Accuracy:\",result2)\n"
   ]
  },
  {
   "attachments": {},
   "cell_type": "markdown",
   "metadata": {},
   "source": [
    "Naive Bayes"
   ]
  },
  {
   "cell_type": "code",
   "execution_count": 159,
   "metadata": {},
   "outputs": [],
   "source": [
    "\n",
    "from sklearn.feature_extraction.text import TfidfVectorizer\n",
    "#tfidf vectorizer\n",
    "vectorizer = TfidfVectorizer()"
   ]
  },
  {
   "cell_type": "code",
   "execution_count": 160,
   "metadata": {},
   "outputs": [],
   "source": [
    "sentiment_classifier = Pipeline(steps=[\n",
    "                               ('pre_processing',TfidfVectorizer(lowercase=False)),\n",
    "                                 ('naive_bayes',MultinomialNB())\n",
    "                                 ])"
   ]
  },
  {
   "cell_type": "code",
   "execution_count": 161,
   "metadata": {},
   "outputs": [],
   "source": [
    "# train the sentiment classifier \n",
    "sentiment_classifier.fit(X_train,y_train)\n",
    "# test model performance on valid data \n",
    "y_preds_nb = sentiment_classifier.predict(X_test)"
   ]
  },
  {
   "cell_type": "code",
   "execution_count": 162,
   "metadata": {},
   "outputs": [
    {
     "name": "stdout",
     "output_type": "stream",
     "text": [
      "Confusion Matrix: \n",
      "[[   23     2  2054]\n",
      " [    1     1  3305]\n",
      " [    0     1 18614]]\n",
      "Clasification Report: \n",
      "              precision    recall  f1-score   support\n",
      "\n",
      "           1       0.96      0.01      0.02      2079\n",
      "           2       0.25      0.00      0.00      3307\n",
      "           3       0.78      1.00      0.87     18615\n",
      "\n",
      "    accuracy                           0.78     24001\n",
      "   macro avg       0.66      0.34      0.30     24001\n",
      "weighted avg       0.72      0.78      0.68     24001\n",
      "\n",
      "Accuracy: 0.7765509770426232\n"
     ]
    }
   ],
   "source": [
    "from sklearn.metrics import classification_report , confusion_matrix , accuracy_score\n",
    "result = confusion_matrix(y_test,y_preds_nb)\n",
    "print(\"Confusion Matrix: \")\n",
    "print(result)\n",
    "\n",
    "result1 = classification_report(y_test,y_preds_nb)\n",
    "print(\"Clasification Report: \")\n",
    "print(result1)\n",
    "\n",
    "result2 = accuracy_score(y_test,y_preds_nb)\n",
    "print(\"Accuracy:\",result2)"
   ]
  }
 ],
 "metadata": {
  "kernelspec": {
   "display_name": "Python 3",
   "language": "python",
   "name": "python3"
  },
  "language_info": {
   "codemirror_mode": {
    "name": "ipython",
    "version": 3
   },
   "file_extension": ".py",
   "mimetype": "text/x-python",
   "name": "python",
   "nbconvert_exporter": "python",
   "pygments_lexer": "ipython3",
   "version": "3.10.0"
  },
  "orig_nbformat": 4,
  "vscode": {
   "interpreter": {
    "hash": "5a92875decd9669cb775ef72688ac45d631cb4f405bab9cb50a6c94de499489b"
   }
  }
 },
 "nbformat": 4,
 "nbformat_minor": 2
}
