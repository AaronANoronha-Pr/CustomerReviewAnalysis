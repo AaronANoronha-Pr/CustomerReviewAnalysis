{
 "cells": [
  {
   "cell_type": "code",
   "execution_count": 77,
   "id": "e25bd800-f528-4596-a616-3314386c7345",
   "metadata": {},
   "outputs": [
    {
     "name": "stdout",
     "output_type": "stream",
     "text": [
      "   Unnamed: 0                                        review_body  sentiment\n",
      "0           0  absolutely love watch get compliments almost e...          1\n",
      "1           1                 love watch keeps time wonderfully.          1\n",
      "2           2                                          scratches          2\n",
      "3           3  works well me. however, found cheaper prices p...          1\n",
      "4           4  beautiful watch face. band looks nice around. ...          1\n",
      "955770    received timex t5e231 watch yesterday i, absol...\n",
      "216613                       grandson loved great condition\n",
      "352439    tool kit allows work watches. cost less trip j...\n",
      "885539    4 screws outside bezel. fake, fall out. prepea...\n",
      "376521                                         big returned\n",
      "Name: review_body, dtype: object\n",
      "227625                                      good, beautiful\n",
      "914504    disappointed purchase broken second day wearin...\n",
      "337053    excelente, bonito, buen material. lo recibi en...\n",
      "648394    getting batteries installed jeweler expensive....\n",
      "618897    love look watch think broken husband puts watc...\n",
      "Name: review_body, dtype: object\n",
      "955770    1\n",
      "216613    1\n",
      "352439    1\n",
      "885539    2\n",
      "376521    2\n",
      "Name: sentiment, dtype: int64\n",
      "227625    1\n",
      "914504    0\n",
      "337053    1\n",
      "648394    1\n",
      "618897    2\n",
      "Name: sentiment, dtype: int64\n"
     ]
    }
   ],
   "source": [
    "import pandas as pd\n",
    "from sklearn.model_selection import train_test_split\n",
    "from sklearn.metrics import confusion_matrix\n",
    "import joblib\n",
    "from sklearn.feature_extraction.text import CountVectorizer\n",
    "pd.set_option('display.max_columns',None)\n",
    "data = pd.read_csv('Final_data.csv')\n",
    "\n",
    "print(data.head())\n",
    "\n",
    "def preprocess_data(data):\n",
    "    \n",
    "    # Convert text to lowercase\n",
    "    data['review_body'] = data['review_body'].str.strip().str.lower()\n",
    "    return data\n",
    "\n",
    "data = preprocess_data(data)\n",
    "data=data.dropna()\n",
    "# Split into training and testing data\n",
    "x = data['review_body']\n",
    "y = data['sentiment']\n",
    "x, x_test, y, y_test = train_test_split(x,y, stratify=y, test_size=0.25, random_state=42)\n",
    "\n",
    "print(x.head())\n",
    "print(x_test.head())\n",
    "print(y.head())\n",
    "print(y_test.head())"
   ]
  },
  {
   "cell_type": "code",
   "execution_count": 78,
   "id": "e75e21ee-d842-4c0b-9191-e5de91475b56",
   "metadata": {},
   "outputs": [],
   "source": [
    "# Split into training and testing data\n",
    "x = data['review_body']\n",
    "y = data['sentiment']\n",
    "x, x_test, y, y_test = train_test_split(x,y, stratify=y, test_size=0.25, random_state=42)"
   ]
  },
  {
   "cell_type": "code",
   "execution_count": 101,
   "id": "0ac577af-80d3-48fb-9839-eb584911d75f",
   "metadata": {},
   "outputs": [],
   "source": [
    "# Vectorize text reviews to numbers\n",
    "vectorizer = CountVectorizer(min_df=2)\n",
    "train_term = vectorizer.fit_transform(x)\n",
    "test_term = vectorizer.transform(x_test)\n"
   ]
  },
  {
   "cell_type": "code",
   "execution_count": 102,
   "id": "865bec6a-97c0-4f89-b0b9-8efa711ede52",
   "metadata": {},
   "outputs": [
    {
     "data": {
      "text/plain": [
       "['00',\n",
       " '000',\n",
       " '0000',\n",
       " '00000',\n",
       " '000000',\n",
       " '00001',\n",
       " '0001',\n",
       " '0002',\n",
       " '0004',\n",
       " '000ft',\n",
       " '000m',\n",
       " '000s',\n",
       " '000th',\n",
       " '001',\n",
       " '002',\n",
       " '003',\n",
       " '0037',\n",
       " '005',\n",
       " '0050',\n",
       " '006']"
      ]
     },
     "execution_count": 102,
     "metadata": {},
     "output_type": "execute_result"
    }
   ],
   "source": [
    "vectorizer.get_feature_names()[:20]"
   ]
  },
  {
   "cell_type": "code",
   "execution_count": 103,
   "id": "7e3b0f7b-a210-4e44-98d0-649018b5a8e6",
   "metadata": {},
   "outputs": [
    {
     "name": "stdout",
     "output_type": "stream",
     "text": [
      "Train Accuracy: 0.8326720247716227\n",
      "Test Accuracy: 0.8250411724238571\n"
     ]
    }
   ],
   "source": [
    "model = MultinomialNB()\n",
    "model.fit(train_term, y)\n",
    "predictions_train = model.predict(train_term)\n",
    "predictions_test = model.predict(test_term)\n",
    "print('Train Accuracy:', accuracy_score(y, predictions_train))\n",
    "print('Test Accuracy:', accuracy_score(y_test, predictions_test))"
   ]
  },
  {
   "cell_type": "code",
   "execution_count": 104,
   "id": "f29d7253-970a-41c7-a570-32425785e2b5",
   "metadata": {},
   "outputs": [
    {
     "data": {
      "text/plain": [
       "0.8250411724238571"
      ]
     },
     "execution_count": 104,
     "metadata": {},
     "output_type": "execute_result"
    }
   ],
   "source": [
    "model.score(test_term, y_test)"
   ]
  },
  {
   "cell_type": "code",
   "execution_count": 126,
   "id": "42263381-151d-40d2-a8ec-97040f9c551f",
   "metadata": {},
   "outputs": [
    {
     "name": "stdout",
     "output_type": "stream",
     "text": [
      "Its Neutral\n",
      "Its Positive\n",
      "Its Negative\n"
     ]
    }
   ],
   "source": [
    "text1=[\"cheap watch looks cheap. much else say.\"]\n",
    "text2=[\"absolutely love watch get compliments almost every time wear it. dainty.\"]\n",
    "text3=[\"bought watch 2013, screen problem 10 months later. sent watch back casio service center la, sent replacement new watch. last week, less one year received new watch, battery out. went shop replace battery. button watch working, could change time settings. think watch good product. buy it.\"]\n",
    "cv = CountVectorizer()\n",
    "cv.fit(text1)\n",
    "text_vector1 = vectorizer.transform(text1)\n",
    "output1 = model.predict(text_vector1)\n",
    "\n",
    "cv = CountVectorizer()\n",
    "cv.fit(text2)\n",
    "text_vector2 = vectorizer.transform(text2)\n",
    "output2 = model.predict(text_vector2)\n",
    "\n",
    "cv = CountVectorizer()\n",
    "cv.fit(text3)\n",
    "text_vector3 = vectorizer.transform(text3)\n",
    "output3 = model.predict(text_vector3)\n",
    "\n",
    "if output1 == 1:\n",
    "    print(\"Its Positive\")\n",
    "elif output1 == 2:\n",
    "    print(\"Its Neutral\")\n",
    "else:\n",
    "    print(\"Its Negative\")\n",
    "    \n",
    "if output2 == 1:\n",
    "    print(\"Its Positive\")\n",
    "elif output2 == 2:\n",
    "    print(\"Its Neutral\")\n",
    "else:\n",
    "    print(\"Its Negative\")\n",
    "\n",
    "if output3 == 1:\n",
    "    print(\"Its Positive\")\n",
    "elif output3 == 2:\n",
    "    print(\"Its Neutral\")\n",
    "else:\n",
    "    print(\"Its Negative\")"
   ]
  }
 ],
 "metadata": {
  "kernelspec": {
   "display_name": "Python 3",
   "language": "python",
   "name": "python3"
  },
  "language_info": {
   "codemirror_mode": {
    "name": "ipython",
    "version": 3
   },
   "file_extension": ".py",
   "mimetype": "text/x-python",
   "name": "python",
   "nbconvert_exporter": "python",
   "pygments_lexer": "ipython3",
   "version": "3.8.8"
  }
 },
 "nbformat": 4,
 "nbformat_minor": 5
}
